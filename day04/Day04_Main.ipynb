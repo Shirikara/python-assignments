{
 "cells": [
  {
   "cell_type": "markdown",
   "id": "0df42f2e",
   "metadata": {},
   "source": [
    "## <font color='purple'> This is a guessing a number user interactive game (_split functions_)</font>"
   ]
  },
  {
   "cell_type": "markdown",
   "id": "4f4043f8",
   "metadata": {},
   "source": [
    "### Please notice that this notebook is split into many functions that serve the same purpose of the game"
   ]
  },
  {
   "cell_type": "code",
   "execution_count": 14,
   "id": "595d5564",
   "metadata": {},
   "outputs": [],
   "source": [
    "# Import Libraries\n",
    "import numpy as np"
   ]
  },
  {
   "cell_type": "code",
   "execution_count": 15,
   "id": "18384991",
   "metadata": {},
   "outputs": [],
   "source": [
    "# Generation random target number for the game\n",
    "\n",
    "def generate_random_int():\n",
    "    # Generate a random number between 1 and 20\n",
    "    return np.random.randint(1, 21)"
   ]
  },
  {
   "cell_type": "code",
   "execution_count": 16,
   "id": "085f9cb9",
   "metadata": {},
   "outputs": [],
   "source": [
    "# Display the game instructions and special commands\n",
    "\n",
    "def display_instructions():\n",
    "    print(\"\\nI am thinking of a number between 1 and 20. Can you guess what it is?\")\n",
    "    print(\"Enter 'x' to exit the program, 'n' to start a new game, or 's' to show the hidden number.\")"
   ]
  },
  {
   "cell_type": "code",
   "execution_count": 17,
   "id": "76660d78",
   "metadata": {},
   "outputs": [],
   "source": [
    "\"\"\"\n",
    "Handle special commands ('x', 'n', 's').\n",
    "Returns a tuple:\n",
    "- keep_playing: Whether the current game should continue.\n",
    "- exit_game: Whether the program should terminate.\n",
    "\"\"\"\n",
    "\n",
    "def process_special_commands(user_input, target_number):\n",
    "\n",
    "    if user_input.lower() == 'x':\n",
    "        print(\"Thanks for playing with me. Goodbye!\")\n",
    "        return False, True\n",
    "    elif user_input.lower() == 'n':\n",
    "        print(\"Starting a new game!\")\n",
    "        return False, False\n",
    "    elif user_input.lower() == 's':\n",
    "        print(f\"Hey, you are cheating! The hidden number is {target_number}\")\n",
    "        return True, False\n",
    "    return None, None"
   ]
  },
  {
   "cell_type": "code",
   "execution_count": 18,
   "id": "31b8edfb",
   "metadata": {},
   "outputs": [],
   "source": [
    "# Validate user input to ensure it's a positive integer between 1 and 20\n",
    "\n",
    "def validate_guess(user_input):\n",
    "    try:\n",
    "        guess = int(user_input)\n",
    "        if guess < 1:\n",
    "            print(\"Invalid Input. The minimal value is 1. Please try again.\")\n",
    "        elif guess > 20:\n",
    "            print(\"Invalid Input. The maximal value is 20. Please try again.\")\n",
    "        else:\n",
    "            return guess\n",
    "    \n",
    "    # Provide error feedback\n",
    "    except ValueError:\n",
    "        print(\"Invalid input. Please enter a positive integer (natural number, no fractions) between 1 and 20.\")\n",
    "    return None"
   ]
  },
  {
   "cell_type": "code",
   "execution_count": 19,
   "id": "8af439c4",
   "metadata": {},
   "outputs": [],
   "source": [
    "# Provide feedback on whether the user's guess is correct, too high, or too low.\n",
    "\n",
    "def provide_feedback(guess, target_number):\n",
    "    if guess == target_number:\n",
    "        return True, \"Yay! You guessed correctly! You read my thoughts and won the game!\"\n",
    "    elif guess < target_number:\n",
    "        return False, \"Your number is too small. Try again.\"\n",
    "    else:\n",
    "        return False, \"Your number is too big. Try again.\""
   ]
  },
  {
   "cell_type": "code",
   "execution_count": 20,
   "id": "12fedca1",
   "metadata": {},
   "outputs": [],
   "source": [
    "# Manage a single round of the game, including handling guesses, special commands, and feedback\n",
    "def play_game():\n",
    "    # Play a single guessing game\n",
    "    target_number = generate_random_int()\n",
    "    num_tries = 0\n",
    "    keep_playing = True\n",
    "\n",
    "    display_instructions()\n",
    "\n",
    "    while keep_playing:\n",
    "        user_input = input(\"Your guess: \").strip()\n",
    "        \n",
    "        # Handle special commands\n",
    "        keep_playing_command, exit_game = process_special_commands(user_input, target_number)\n",
    "        if keep_playing_command is not None:  # A special command was handled\n",
    "            keep_playing = keep_playing_command\n",
    "            if exit_game:\n",
    "                return 'exit', num_tries\n",
    "\n",
    "        # Validate guess\n",
    "        guess = validate_guess(user_input)\n",
    "        if guess is None:\n",
    "            continue  # Invalid input, re-prompt the user\n",
    "\n",
    "        # Increase tries and provide feedback\n",
    "        num_tries += 1\n",
    "        correct, feedback = provide_feedback(guess, target_number)\n",
    "        print(feedback)\n",
    "        if correct:\n",
    "            return 'win', num_tries"
   ]
  },
  {
   "cell_type": "code",
   "execution_count": 21,
   "id": "87f3e50e",
   "metadata": {},
   "outputs": [],
   "source": [
    "\"\"\"\n",
    "Main function to manage multiple gamesThe main game loop that \n",
    "keeps track of multiple games, handles replay logic, and manages user interaction\n",
    "\"\"\"\n",
    "\n",
    "def guess_number_game():\n",
    "    print(\"Welcome to the telepathy game!\")\n",
    "    total_num_games = 0\n",
    "    play_again = True\n",
    "\n",
    "    while play_again:\n",
    "        total_num_games += 1\n",
    "        result, num_tries = play_game()\n",
    "\n",
    "        if result == 'exit':\n",
    "            break\n",
    "        elif result == 'win':\n",
    "            print(f\"You guessed the number in {num_tries} tries!\")\n",
    "\n",
    "        # Ask if the user wants to play again\n",
    "        play_again_input = input(\"Would you like to play again? (yes/no): \").strip().lower()\n",
    "        if play_again_input not in ['yes', 'y']:\n",
    "            play_again = False\n",
    "\n",
    "    # Exit the game\n",
    "    print(f\"Thanks for playing! You played {total_num_games} games. Have a nice day :)\")"
   ]
  },
  {
   "cell_type": "code",
   "execution_count": 22,
   "id": "51807fc0",
   "metadata": {},
   "outputs": [
    {
     "name": "stdout",
     "output_type": "stream",
     "text": [
      "Welcome to the telepathy game!\n",
      "\n",
      "I am thinking of a number between 1 and 20. Can you guess what it is?\n",
      "Enter 'x' to exit the program, 'n' to start a new game, or 's' to show the hidden number.\n",
      "Your guess: 5\n",
      "Your number is too big. Try again.\n",
      "Your guess: 1\n",
      "Yay! You guessed correctly! You read my thoughts and won the game!\n",
      "You guessed the number in 2 tries!\n",
      "Would you like to play again? (yes/no): y\n",
      "\n",
      "I am thinking of a number between 1 and 20. Can you guess what it is?\n",
      "Enter 'x' to exit the program, 'n' to start a new game, or 's' to show the hidden number.\n",
      "Your guess: 7.5\n",
      "Invalid input. Please enter a positive integer (natural number, no fractions) between 1 and 20.\n",
      "Your guess: -2\n",
      "Invalid Input. The minimal value is 1. Please try again.\n",
      "Your guess: 0\n",
      "Invalid Input. The minimal value is 1. Please try again.\n",
      "Your guess: 213\n",
      "Invalid Input. The maximal value is 20. Please try again.\n",
      "Your guess: 7\n",
      "Your number is too small. Try again.\n",
      "Your guess: 15\n",
      "Your number is too small. Try again.\n",
      "Your guess: 19\n",
      "Your number is too big. Try again.\n",
      "Your guess: 17\n",
      "Yay! You guessed correctly! You read my thoughts and won the game!\n",
      "You guessed the number in 4 tries!\n",
      "Would you like to play again? (yes/no): no\n",
      "Thanks for playing! You played 2 games. Have a nice day :)\n"
     ]
    }
   ],
   "source": [
    "# Initialize the game by running the function\n",
    "if __name__ == \"__main__\":\n",
    "    guess_number_game()"
   ]
  }
 ],
 "metadata": {
  "kernelspec": {
   "display_name": "Python 3 (ipykernel)",
   "language": "python",
   "name": "python3"
  },
  "language_info": {
   "codemirror_mode": {
    "name": "ipython",
    "version": 3
   },
   "file_extension": ".py",
   "mimetype": "text/x-python",
   "name": "python",
   "nbconvert_exporter": "python",
   "pygments_lexer": "ipython3",
   "version": "3.9.7"
  }
 },
 "nbformat": 4,
 "nbformat_minor": 5
}
