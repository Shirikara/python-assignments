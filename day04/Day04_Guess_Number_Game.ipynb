{
 "cells": [
  {
   "cell_type": "markdown",
   "id": "0b9ba377",
   "metadata": {},
   "source": [
    "## <font color='purple'> This is a guessing a number user interactive game (full code)</font>\n"
   ]
  },
  {
   "cell_type": "code",
   "execution_count": 3,
   "id": "590d0564",
   "metadata": {},
   "outputs": [],
   "source": [
    "# Import Libraries\n",
    "import numpy as np"
   ]
  },
  {
   "cell_type": "code",
   "execution_count": 2,
   "id": "554391a4",
   "metadata": {},
   "outputs": [
    {
     "name": "stdout",
     "output_type": "stream",
     "text": [
      "Welcome to the telepathy game!\n",
      "\n",
      "I am thinking of a number between 1 and 20. Can you guess what it is?\n",
      "Enter 'x' to exit the program, 'n' to start a new game, or 's' to show the hidden number.\n",
      "Your guess: 5\n",
      "Your number is too small. Try again.\n",
      "Your guess: 8\n",
      "Your number is too small. Try again.\n",
      "Your guess: 15\n",
      "Your number is too small. Try again.\n",
      "Your guess: 20\n",
      "Your number is too big. Try again.\n",
      "Your guess: 19\n",
      "Your number is too big. Try again.\n",
      "Your guess: 18\n",
      "Your number is too big. Try again.\n",
      "Your guess: 17\n",
      "Yay! You guessed correctly in 7 tries. You read my thoughts and won the game!\n",
      "Would you like to play again? (yes/no): yes\n",
      "\n",
      "I am thinking of a number between 1 and 20. Can you guess what it is?\n",
      "Enter 'x' to exit the program, 'n' to start a new game, or 's' to show the hidden number.\n",
      "Your guess: 5.5\n",
      "Invalid input. Please enter a positive integer (natural number, no fractions) between 1 and 20, or 'x', 'n', 's'.\n",
      "Your guess: -1\n",
      "Only positive values are accepted. Please try again\n",
      "Your guess: 21\n",
      "Invalid Input. The maximal value is 20. Please try again\n",
      "Your guess: 0\n",
      "Invalid Input. The minimal value is 1. Please try again\n",
      "Your guess: 5\n",
      "Your number is too small. Try again.\n",
      "Your guess: 17\n",
      "Your number is too big. Try again.\n",
      "Your guess: 11\n",
      "Yay! You guessed correctly in 6 tries. You read my thoughts and won the game!\n",
      "Would you like to play again? (yes/no): no\n",
      "Thanks for playing! You played 2 games. Have a nice day :)\n"
     ]
    }
   ],
   "source": [
    "# Define the game inside a function\n",
    "def guess_number_game():\n",
    "    print(\"Welcome to the telepathy game!\")\n",
    "    # Initializing Game Variables\n",
    "    total_num_games = 0 #keeps track of how many games the user has played\n",
    "    play_again = True #controls the main game. It starts as True so the user can play at least one game\n",
    "\n",
    "    while play_again:\n",
    "        # Generate a random number for the game\n",
    "        comp_int_1to20 = np.random.randint(1, 21) #random int between 1 and 20 \n",
    "        total_num_games += 1 #counts if new game is starting\n",
    "        num_try = 0 #How many times it takes the user to guess correctly within one round\n",
    "        keep_playing = True #This loop keeps running as long as the user wants to play (keep_playing = True)\n",
    "\n",
    "        #Game instructions and special commands for the user\n",
    "        print(\"\\nI am thinking of a number between 1 and 20. Can you guess what it is?\")\n",
    "        print(\"Enter 'x' to exit the program, 'n' to start a new game, or 's' to show the hidden number.\")\n",
    "\n",
    "        while keep_playing: #This loop continues until the current game ends (keep_playing = False).\n",
    "            user_input = input(\"Your guess: \")\n",
    "            # Special Commands\n",
    "            if user_input.lower() == 'x':\n",
    "                print(\"Thanks for playing with me. Goodbye!\")\n",
    "                return\n",
    "            elif user_input.lower() == 'n':\n",
    "                print(\"Starting a new game!\")\n",
    "                keep_playing = False\n",
    "            elif user_input.lower() == 's':\n",
    "                print(f\"Hey, you are cheating! The hidden number is {comp_int_1to20}\")\n",
    "            else:\n",
    "                try:\n",
    "                    guess_by_user = int(user_input) # If the input is not a command (x, n, s), the program attempts to convert it to an integer\n",
    "                    num_try += 1\n",
    "                    \n",
    "                    #Feedback to the user's guess\n",
    "                    if guess_by_user == comp_int_1to20:\n",
    "                        print(f\"Yay! You guessed correctly in {num_try} tries. You read my thoughts and won the game!\")\n",
    "                        keep_playing = False\n",
    "                    elif guess_by_user < 0:\n",
    "                        print(\"Only positive values are accepted. Please try again\")\n",
    "                    elif guess_by_user == 0:\n",
    "                        print(\"Invalid Input. The minimal value is 1. Please try again\")\n",
    "                    elif guess_by_user > 20:\n",
    "                        print(\"Invalid Input. The maximal value is 20. Please try again\")\n",
    "                    elif guess_by_user < comp_int_1to20:\n",
    "                        print(\"Your number is too small. Try again.\")\n",
    "                    else:\n",
    "                        print(\"Your number is too big. Try again.\")\n",
    "                except ValueError:\n",
    "                    print(\"Invalid input. Please enter a positive integer (natural number, no fractions) between 1 and 20, or 'x', 'n', 's'.\")\n",
    "\n",
    "        # Ask if the user wants to play again after the current game ends\n",
    "        if keep_playing == False:\n",
    "            play_again_input = input(\"Would you like to play again? (yes/no): \").strip().lower()\n",
    "            if play_again_input not in ['yes', 'y']:\n",
    "                play_again = False\n",
    "    #Exit the Game\n",
    "    print(f\"Thanks for playing! You played {total_num_games} games. Have a nice day :)\")\n",
    "\n",
    "#Initialize the game by running the function\n",
    "guess_number_game()"
   ]
  }
 ],
 "metadata": {
  "kernelspec": {
   "display_name": "Python 3 (ipykernel)",
   "language": "python",
   "name": "python3"
  },
  "language_info": {
   "codemirror_mode": {
    "name": "ipython",
    "version": 3
   },
   "file_extension": ".py",
   "mimetype": "text/x-python",
   "name": "python",
   "nbconvert_exporter": "python",
   "pygments_lexer": "ipython3",
   "version": "3.9.7"
  }
 },
 "nbformat": 4,
 "nbformat_minor": 5
}
