{
 "cells": [
  {
   "cell_type": "markdown",
   "id": "419b7ad3-0220-455c-a8e9-8631b6b2c6f2",
   "metadata": {},
   "source": [
    "# This is a Day2 assignment notebook"
   ]
  },
  {
   "cell_type": "markdown",
   "id": "3d840afc-0daf-48e3-8600-ea23b7e558fc",
   "metadata": {},
   "source": [
    "## There are two version of the code in both rectangle and circle. One is *user interactive* and and the other is *simple*"
   ]
  },
  {
   "cell_type": "markdown",
   "id": "9882de7f-4720-40b2-b550-fc66ecc3fb86",
   "metadata": {},
   "source": [
    "### Circle (User Interactive)"
   ]
  },
  {
   "cell_type": "code",
   "execution_count": 3,
   "id": "3c641d72-1d04-40cd-b026-ee960d3a5e30",
   "metadata": {},
   "outputs": [
    {
     "name": "stdin",
     "output_type": "stream",
     "text": [
      "Please type the radius of the circle:  4\n"
     ]
    },
    {
     "name": "stdout",
     "output_type": "stream",
     "text": [
      "The area of the circle is: 50.27\n",
      "The circumference of the circle is: 25.13\n"
     ]
    }
   ],
   "source": [
    "# Prompt the user to input the radius of the circle\n",
    "radius = float(input(\"Please type the radius of the circle: \"))\n",
    "\n",
    "# Calculate the area of the circle (formula = π * r^2)\n",
    "circle_area = pi * radius ** 2\n",
    "\n",
    "# Print the result, including the radius and calculated area\n",
    "print(\"The area of the circle is: \" + str(round(circle_area,2)))\n",
    "\n",
    "# Calculate the area of the circle (formula = 2πr)\n",
    "\n",
    "# Print the result, including the radius and calculated circumference\n",
    "circle_circumference = 2 * pi * radius\n",
    "print(\"The circumference of the circle is: \" + str(round(circle_circumference,2)))"
   ]
  },
  {
   "cell_type": "markdown",
   "id": "feec01dd-4e50-42df-867c-1cc251dffed9",
   "metadata": {},
   "source": [
    "### Circle (Simple version)"
   ]
  },
  {
   "cell_type": "code",
   "execution_count": 4,
   "id": "20a7f7a9-d0b6-4222-8e6c-4358d039e39c",
   "metadata": {},
   "outputs": [
    {
     "name": "stdout",
     "output_type": "stream",
     "text": [
      "The area of the circle is: 78.54\n",
      "The circumference of the circle is: 31.42\n"
     ]
    }
   ],
   "source": [
    "#Define radius\n",
    "radius = 5"
   ]
  },
  {
   "cell_type": "markdown",
   "id": "926b314a-75ef-43ab-b2a2-5306b807b2c8",
   "metadata": {},
   "source": [
    "### Rectangle (User Interactive version)"
   ]
  },
  {
   "cell_type": "code",
   "execution_count": 2,
   "id": "f5e64eaa-bedc-4bee-bd14-a1858d07a92f",
   "metadata": {
    "scrolled": true
   },
   "outputs": [
    {
     "name": "stdin",
     "output_type": "stream",
     "text": [
      "Please type the width of the rectangle:  5\n",
      "Please type the length of the rectangle:  10\n"
     ]
    },
    {
     "name": "stdout",
     "output_type": "stream",
     "text": [
      "The area of the rectangle is:  50.0\n",
      "The circumference of the rectangle is:  30.0\n"
     ]
    }
   ],
   "source": [
    "# Prompt the user to define width\n",
    "rec_width = float(input(\"Please type the width of the rectangle: \"))\n",
    "\n",
    "# Prompt the user to define length\n",
    "rec_length = float(input(\"Please type the length of the rectangle: \"))\n",
    "\n",
    "# Prinet the area of the rectangle\n",
    "rec_area = rec_width * rec_length\n",
    "print(\"The area of the rectangle is: \", rec_area)\n",
    "\n",
    "# Pritne the circumference of the rectangle\n",
    "rec_circumference = 2*rec_width + 2*rec_length\n",
    "print(\"The circumference of the rectangle is: \", rec_circumference)"
   ]
  },
  {
   "cell_type": "markdown",
   "id": "c53ddfac-a32e-46db-9a64-85613288ffb1",
   "metadata": {},
   "source": [
    "### Rectangle (Simple version)"
   ]
  },
  {
   "cell_type": "code",
   "execution_count": 5,
   "id": "288b909d-fbe4-4bb1-b4e2-cc73c70ac5d6",
   "metadata": {},
   "outputs": [
    {
     "name": "stdout",
     "output_type": "stream",
     "text": [
      "The area of the rectangle is:  8\n",
      "The circumference of the rectangle is:  12\n"
     ]
    }
   ],
   "source": [
    "#Define width\n",
    "rec_width = 2\n",
    "\n",
    "#Define length\n",
    "rec_length = 4\n",
    "\n",
    "# Prinet the area of the rectangle\n",
    "rec_area = rec_width * rec_length\n",
    "print(\"The area of the rectangle is: \", rec_area)\n",
    "\n",
    "# Pritne the circumference of the rectangle\n",
    "rec_circumference = 2*rec_width + 2*rec_length\n",
    "print(\"The circumference of the rectangle is: \", rec_circumference)"
   ]
  }
 ],
 "metadata": {
  "kernelspec": {
   "display_name": "Python 3 (ipykernel)",
   "language": "python",
   "name": "python3"
  },
  "language_info": {
   "codemirror_mode": {
    "name": "ipython",
    "version": 3
   },
   "file_extension": ".py",
   "mimetype": "text/x-python",
   "name": "python",
   "nbconvert_exporter": "python",
   "pygments_lexer": "ipython3",
   "version": "3.12.1"
  }
 },
 "nbformat": 4,
 "nbformat_minor": 5
}
