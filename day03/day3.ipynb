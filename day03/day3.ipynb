{
 "cells": [
  {
   "cell_type": "markdown",
   "id": "419b7ad3-0220-455c-a8e9-8631b6b2c6f2",
   "metadata": {},
   "source": [
    "## This is a Day2 assignment notebook modified for Day3"
   ]
  },
  {
   "cell_type": "markdown",
   "id": "9882de7f-4720-40b2-b550-fc66ecc3fb86",
   "metadata": {},
   "source": [
    "### Circle (User Interactive version)"
   ]
  },
  {
   "cell_type": "code",
   "execution_count": null,
   "id": "87379be7",
   "metadata": {},
   "outputs": [],
   "source": [
    "# Load Libraries\n",
    "from math import pi"
   ]
  },
  {
   "cell_type": "code",
   "execution_count": null,
   "id": "3c641d72-1d04-40cd-b026-ee960d3a5e30",
   "metadata": {},
   "outputs": [],
   "source": [
    "# Prompt the user to input the radius of the circle\n",
    "radius = float(input(\"Please type the radius of the circle in cm: \"))\n",
    "\n",
    "# Calculate the area of the circle (formula = π * r^2)\n",
    "circle_area = pi * radius ** 2\n",
    "\n",
    "# Print the result, including the radius and calculated area\n",
    "print(\"The area of the circle is: \" + str(round(circle_area,2)) + \"cm²\")\n",
    "\n",
    "# Calculate the area of the circle (formula = 2πr)\n",
    "\n",
    "# Print the result, including the radius and calculated circumference\n",
    "circle_circumference = 2 * pi * radius\n",
    "print(\"The circumference of the circle is: \" + str(round(circle_circumference,2)) + \"cm\")"
   ]
  },
  {
   "cell_type": "markdown",
   "id": "926b314a-75ef-43ab-b2a2-5306b807b2c8",
   "metadata": {},
   "source": [
    "### Rectangle (User Interactive version)"
   ]
  },
  {
   "cell_type": "code",
   "execution_count": null,
   "id": "f5e64eaa-bedc-4bee-bd14-a1858d07a92f",
   "metadata": {
    "scrolled": true
   },
   "outputs": [],
   "source": [
    "# Prompt the user to define width\n",
    "rec_width = float(input(\"Please type the width of the rectangle in cm: \"))\n",
    "\n",
    "# Prompt the user to define length\n",
    "rec_length = float(input(\"Please type the length of the rectangle in cm: \"))\n",
    "\n",
    "# Prinet the area of the rectangle\n",
    "rec_area = rec_width * rec_length\n",
    "print(\"The area of the rectangle is: \", rec_area)\n",
    "\n",
    "# Pritne the circumference of the rectangle\n",
    "rec_circumference = 2*rec_width + 2*rec_length\n",
    "print(\"The circumference of the rectangle is: \", round(float(rec_circumference)), \"cm²\")"
   ]
  }
 ],
 "metadata": {
  "kernelspec": {
   "display_name": "Python 3 (ipykernel)",
   "language": "python",
   "name": "python3"
  },
  "language_info": {
   "codemirror_mode": {
    "name": "ipython",
    "version": 3
   },
   "file_extension": ".py",
   "mimetype": "text/x-python",
   "name": "python",
   "nbconvert_exporter": "python",
   "pygments_lexer": "ipython3",
   "version": "3.12.1"
  }
 },
 "nbformat": 4,
 "nbformat_minor": 5
}
