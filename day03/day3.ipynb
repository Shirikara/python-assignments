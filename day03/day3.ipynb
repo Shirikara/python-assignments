{
 "cells": [
  {
   "cell_type": "markdown",
   "id": "419b7ad3-0220-455c-a8e9-8631b6b2c6f2",
   "metadata": {},
   "source": [
    "## This is a Day2 assignment notebook modified for Day3"
   ]
  },
  {
   "cell_type": "markdown",
   "id": "9882de7f-4720-40b2-b550-fc66ecc3fb86",
   "metadata": {},
   "source": [
    "### Circle (User Interactive version)"
   ]
  },
  {
   "cell_type": "code",
   "execution_count": 1,
   "id": "87379be7",
   "metadata": {},
   "outputs": [],
   "source": [
    "# Load Libraries\n",
    "from math import pi"
   ]
  },
  {
   "cell_type": "code",
   "execution_count": 2,
   "id": "3c641d72-1d04-40cd-b026-ee960d3a5e30",
   "metadata": {},
   "outputs": [
    {
     "ename": "ValueError",
     "evalue": "could not convert string to float: ''",
     "output_type": "error",
     "traceback": [
      "\u001b[1;31m---------------------------------------------------------------------------\u001b[0m",
      "\u001b[1;31mValueError\u001b[0m                                Traceback (most recent call last)",
      "Cell \u001b[1;32mIn[2], line 2\u001b[0m\n\u001b[0;32m      1\u001b[0m \u001b[38;5;66;03m# Prompt the user to input the radius of the circle\u001b[39;00m\n\u001b[1;32m----> 2\u001b[0m radius \u001b[38;5;241m=\u001b[39m \u001b[38;5;28;43mfloat\u001b[39;49m\u001b[43m(\u001b[49m\u001b[38;5;28;43minput\u001b[39;49m\u001b[43m(\u001b[49m\u001b[38;5;124;43m\"\u001b[39;49m\u001b[38;5;124;43mPlease type the radius of the circle in cm: \u001b[39;49m\u001b[38;5;124;43m\"\u001b[39;49m\u001b[43m)\u001b[49m\u001b[43m)\u001b[49m\n\u001b[0;32m      4\u001b[0m \u001b[38;5;66;03m# Calculate the area of the circle (formula = π * r^2)\u001b[39;00m\n\u001b[0;32m      5\u001b[0m circle_area \u001b[38;5;241m=\u001b[39m pi \u001b[38;5;241m*\u001b[39m radius \u001b[38;5;241m*\u001b[39m\u001b[38;5;241m*\u001b[39m \u001b[38;5;241m2\u001b[39m\n",
      "\u001b[1;31mValueError\u001b[0m: could not convert string to float: ''"
     ]
    }
   ],
   "source": [
    "# Prompt the user to input the radius of the circle\n",
    "radius = float(input(\"Please type the radius of the circle in cm: \"))\n",
    "\n",
    "# Calculate the area of the circle (formula = π * r^2)\n",
    "circle_area = pi * radius ** 2\n",
    "\n",
    "# Print the result, including the radius and calculated area\n",
    "print(\"The area of the circle is: \" + str(round(circle_area,2)) + \"cm²\")\n",
    "\n",
    "# Calculate the area of the circle (formula = 2πr)\n",
    "\n",
    "# Print the result, including the radius and calculated circumference\n",
    "circle_circumference = 2 * pi * radius\n",
    "print(\"The circumference of the circle is: \" + str(round(circle_circumference,2) + \"cm\"))"
   ]
  },
  {
   "cell_type": "markdown",
   "id": "926b314a-75ef-43ab-b2a2-5306b807b2c8",
   "metadata": {},
   "source": [
    "### Rectangle (User Interactive version)"
   ]
  },
  {
   "cell_type": "code",
   "execution_count": null,
   "id": "f5e64eaa-bedc-4bee-bd14-a1858d07a92f",
   "metadata": {
    "scrolled": true
   },
   "outputs": [],
   "source": [
    "# Prompt the user to define width\n",
    "rec_width = float(input(\"Please type the width of the rectangle: \"))\n",
    "\n",
    "# Prompt the user to define length\n",
    "rec_length = float(input(\"Please type the length of the rectangle: \"))\n",
    "\n",
    "# Prinet the area of the rectangle\n",
    "rec_area = rec_width * rec_length\n",
    "print(\"The area of the rectangle is: \", rec_area)\n",
    "\n",
    "# Pritne the circumference of the rectangle\n",
    "rec_circumference = 2*rec_width + 2*rec_length\n",
    "print(\"The circumference of the rectangle is: \", rec_circumference)"
   ]
  }
 ],
 "metadata": {
  "kernelspec": {
   "display_name": "Python 3",
   "language": "python",
   "name": "python3"
  },
  "language_info": {
   "codemirror_mode": {
    "name": "ipython",
    "version": 3
   },
   "file_extension": ".py",
   "mimetype": "text/x-python",
   "name": "python",
   "nbconvert_exporter": "python",
   "pygments_lexer": "ipython3",
   "version": "3.12.1"
  }
 },
 "nbformat": 4,
 "nbformat_minor": 5
}
