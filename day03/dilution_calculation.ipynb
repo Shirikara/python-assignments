{
 "cells": [
  {
   "cell_type": "markdown",
   "metadata": {
    "id": "QO27BfQYX15A"
   },
   "source": [
    "# Dilution Calculation and Visualization"
   ]
  },
  {
   "cell_type": "markdown",
   "metadata": {
    "id": "FmmUaZjVX15B"
   },
   "source": [
    "### Introduction:\n",
    "In this assignment, we will practice using Python to solve a common problem in biology labs: calculating dilutions of solutions. You will learn how to use a for loop to perform repeated calculations and use matplotlib to visualize your results."
   ]
  },
  {
   "cell_type": "markdown",
   "metadata": {
    "id": "WDUM7JOkX15C"
   },
   "source": [
    "### Biology Background:\n",
    "When working in the lab, you often need to prepare solutions with specific concentrations. If you have a stock solution with a known concentration (\n",
    "C1) and you want to dilute it to a lower concentration (C2)\n",
    "you use the following formula:\n",
    "<img src=\"https://toptipbio.com/wp-content/uploads/2017/02/C1V1C2V2.jpg\" alt=\"Dilution Formula\" width=\"300\">\n",
    "\n",
    "\n",
    "Where:\n",
    "- **\\(C1\\)**: Initial (stock) concentration\n",
    "- **\\(V1\\)**: Volume of the stock solution used\n",
    "- **\\(C2\\)**: Final concentration after dilution\n",
    "- **\\(V2\\)**: Final total volume of the solution"
   ]
  },
  {
   "cell_type": "markdown",
   "metadata": {
    "id": "65qk2qxlX15C"
   },
   "source": [
    "\n",
    "### Explanation of Basic Python Operations\n",
    "\n",
    "- **`*` (Multiplication)**:\n",
    "  - Example:\n",
    "    ```python\n",
    "    result = 3 * 4  # This equals 12\n",
    "    ```\n",
    "\n",
    "- **`/` (Division)**:\n",
    "  - Example:\n",
    "    ```python\n",
    "    result = 7 / 2  # This equals 3.5\n",
    "    ```\n",
    "\n",
    "- **`-` (Subtraction)**:\n",
    "  - Example:\n",
    "    ```python\n",
    "    result = 10 - 4  # This equals 6\n",
    "    ```\n",
    "\n",
    "- **`+` (Addition)**:\n",
    "  - Example:\n",
    "    ```python\n",
    "    result = 5 + 7  # This equals 12\n",
    "    ```\n",
    "\n",
    "These basic operations are very helpful for performing calculations in Python.\n"
   ]
  },
  {
   "cell_type": "markdown",
   "metadata": {
    "id": "GeIs6IUXX15C"
   },
   "source": [
    "### 📝 Task: Complete the Code\n",
    "\n",
    "Complete the code by filling in the missing parts marked with `# TODO #`.\n",
    "\n",
    "Good luck, and have fun! 😊\n"
   ]
  },
  {
   "cell_type": "markdown",
   "metadata": {
    "id": "uYGRGCsKX15C"
   },
   "source": [
    "\n",
    "\n",
    "\n",
    "## <font color='cyan'> Part 1: Define the Given Values"
   ]
  },
  {
   "cell_type": "code",
   "execution_count": 5,
   "metadata": {
    "id": "vRozBGvZX15D"
   },
   "outputs": [],
   "source": [
    "# Given values\n",
    "C1_values = [0.5,8,6,2.3,4,1.8,3,6.7,5,10.5]\n",
    "V1 = 1 # Initial volume\n",
    "V2 = 5 # Final volume"
   ]
  },
  {
   "cell_type": "markdown",
   "metadata": {
    "id": "HDf8qCPzX15D"
   },
   "source": [
    "\n",
    "##  <font color='cyan'> Part 2: Calculate the Final Concentrations Using a For Loop"
   ]
  },
  {
   "cell_type": "markdown",
   "metadata": {
    "id": "Ni52iCQ9X15D"
   },
   "source": [
    "A **for loop** is a way to repeat a set of instructions multiple times. It allows you to iterate over a list of items and perform an action on each item in the list.\n",
    "**How It Works:**\n",
    "The basic structure of a `for` loop looks like this:\n",
    "\n",
    "```python\n",
    "for i in list_of_i:\n",
    "    # Perform an action with each i\n",
    "    print(i)\n",
    "``````\n",
    "    \n",
    "- `for`: This keyword starts the loop.\n",
    "- `i`: This is a variable that takes on the value of each item in the list, one at a time.\n",
    "- `in`: This keyword tells Python to look inside the list of items.\n",
    "- `list_of_i`: This is the list that contains the items you want to loop through.\n",
    "\n",
    "\n",
    "This way, we don’t have to write the formula multiple times. The loop does the repetitive work for us!\n",
    "[🔗 Watch the YouTube Video on For Loops](https://www.youtube.com/watch?v=zmIdC0_0BgY)\n"
   ]
  },
  {
   "cell_type": "code",
   "execution_count": 6,
   "metadata": {
    "id": "PptjwfT6X15D"
   },
   "outputs": [
    {
     "name": "stdout",
     "output_type": "stream",
     "text": [
      "Initial concentration: 0.5 mg/mL -> Final concentration: 0.10 mg/mL\n",
      "Initial concentration: 8 mg/mL -> Final concentration: 1.60 mg/mL\n",
      "Initial concentration: 6 mg/mL -> Final concentration: 1.20 mg/mL\n",
      "Initial concentration: 2.3 mg/mL -> Final concentration: 0.46 mg/mL\n",
      "Initial concentration: 4 mg/mL -> Final concentration: 0.80 mg/mL\n",
      "Initial concentration: 1.8 mg/mL -> Final concentration: 0.36 mg/mL\n",
      "Initial concentration: 3 mg/mL -> Final concentration: 0.60 mg/mL\n",
      "Initial concentration: 6.7 mg/mL -> Final concentration: 1.34 mg/mL\n",
      "Initial concentration: 5 mg/mL -> Final concentration: 1.00 mg/mL\n",
      "Initial concentration: 10.5 mg/mL -> Final concentration: 2.10 mg/mL\n"
     ]
    }
   ],
   "source": [
    "# Create an empty list to store the calculated C2 values\n",
    "C2_values = []\n",
    "\n",
    "# Part 1: Calculate C2 using a for loop\n",
    "for C1 in C1_values:\n",
    "    C2 = C1 * V1 / V2 # Calculate final concentration\n",
    "    C2_values.append(C2)\n",
    "    print(f\"Initial concentration: {C1} mg/mL -> Final concentration: {C2:.2f} mg/mL\")\n"
   ]
  },
  {
   "cell_type": "markdown",
   "metadata": {
    "id": "nXRDG7UeX15E"
   },
   "source": [
    "\n",
    "##  <font color='cyan'> Part 3: Calculate the Slope"
   ]
  },
  {
   "cell_type": "markdown",
   "metadata": {
    "id": "YAqoKcfMX15E"
   },
   "source": [
    "\n",
    "\n",
    "\n",
    "The **slope** tells us how quickly the final concentration (\\(C_2\\)) changes as the initial concentration (\\(C_1\\)) increases. It represents the **rate of change** of \\(C_2\\) with respect to \\(C_1\\).\n",
    "\n",
    "We will use the formula:\n",
    "\n",
    "<img src=\"https://studybay.com/assets/marketing/blog/slope-formula/slope-formula-calculation-7.jpg\" alt=\"Slope Formula\" width=\"400\">\n",
    "\n",
    "Where:\n",
    "- \\(y_2\\) and \\(y_1\\) are consecutive values of the final concentration (\\(C_2\\)).\n",
    "- \\(x_2\\) and \\(x_1\\) are consecutive values of the initial concentration (\\(C_1\\)).\n",
    "\n",
    "\n",
    "Slope calculating using Python:\n",
    " - Use the list of the values C1 and C2\n",
    " - Write a Python code to calculate the slope between each consecutive pair of points.\n",
    " - Print the slope values.\n",
    "\n",
    "\n"
   ]
  },
  {
   "cell_type": "code",
   "execution_count": 13,
   "metadata": {
    "id": "cSeJo6dCkIQo"
   },
   "outputs": [
    {
     "name": "stdout",
     "output_type": "stream",
     "text": [
      "Calculated slopes: [0.8, 0.6666666666666666, -3.6, -5.0]\n"
     ]
    }
   ],
   "source": [
    "# Given data\n",
    "C1_values = [5,10,7,2,5]  # Initial concentrations (mg/mL)\n",
    "C2_values = [2,6,4,22,7]  # Final concentrations (mg/mL)\n",
    "\n",
    "# Create an empty list to store slope values\n",
    "slopes = []\n",
    "\n",
    "# Calculate the slope for each consecutive pair of points\n",
    "for i in range(1, len(C1_values)):\n",
    "    x1, x2 = C1_values[i - 1], C1_values[i]\n",
    "    y1, y2 = C2_values[i - 1], C2_values[i]\n",
    "    slope =   (y2 - y1) / (x2 - x1) # Calculate the slope using the formula (y2 - y1) / (x2 - x1)\n",
    "\n",
    "    slopes.append(slope)\n",
    "\n",
    "# Print the list of calculated slopes\n",
    "print(\"Calculated slopes:\", slopes)\n"
   ]
  },
  {
   "cell_type": "markdown",
   "metadata": {
    "id": "8dZJhUvUjmjl"
   },
   "source": [
    "\n",
    "##  <font color='cyan'> Part 4 : yours turn !"
   ]
  },
  {
   "cell_type": "markdown",
   "metadata": {
    "id": "uRXwBpWzjztR"
   },
   "source": [
    "For this final task, you’ll combine everything you’ve learned about defining variables, using for loops, and working with lists to solve a problem of your own creation.\n",
    "\n",
    "Instructions:\n",
    "\n",
    "*   Choose a scientific or mathematical formula that interests you (e.g., population growth, michealis menten, acceleration, etc.).\n",
    "\n",
    "*   Define a list of input parameters relevant to your chosen formula.\n",
    "Use a for loop to iterate through the parameters and calculate the result for each.\n",
    "\n",
    "\n",
    "*   Save all the results in a new list.\n",
    "*   Print both the input parameters and their corresponding results.\n",
    "\n",
    "\n",
    "\n",
    "\n"
   ]
  },
  {
   "cell_type": "markdown",
   "metadata": {},
   "source": [
    "##  <font color='pink'> Part 4 Solution : Predict Concentration"
   ]
  },
  {
   "cell_type": "markdown",
   "metadata": {},
   "source": [
    "###  <font color='grey'> This code predicts the protein concentration given a spectrophotometer readouts in Fluorescamine Assay \n",
    "<img src=\"https://ik.imagekit.io/upgrad1/marketing-platform-assets/sprites/images/seo_content__1665728634476.png\" alt=\"Linear regression Formula\" width=\"400\">\n"
   ]
  },
  {
   "cell_type": "code",
   "execution_count": 14,
   "metadata": {},
   "outputs": [],
   "source": [
    "# Libraries\n",
    "import seaborn as sns\n",
    "import numpy as np\n",
    "import pandas as pd\n",
    "import seaborn as sns\n",
    "import matplotlib.pyplot as plt\n",
    "from sklearn.linear_model import LinearRegression"
   ]
  },
  {
   "cell_type": "code",
   "execution_count": 33,
   "metadata": {},
   "outputs": [
    {
     "data": {
      "image/png": "[encoded data removed]",
      "text/plain": [
       "<Figure size 800x600 with 1 Axes>"
      ]
     },
     "metadata": {},
     "output_type": "display_data"
    }
   ],
   "source": [
    "## Creat calibration curve using known standards and calculate the equation\n",
    "\n",
    "# Known concentrations and RFU values\n",
    "# These concentration values are constant (ug/mL)\n",
    "known_concentration = [0, 7.8, 15.6, 31.3, 62.5, 125, 250, 500] \n",
    "\n",
    "#Inset the readouts using the known concentrations\n",
    "rfu = [90.2, 135.2, 249.9, 447.6, 1174.2, 3212.2, 5342.7, 13093.3] \n",
    "\n",
    "# Create a DataFrame\n",
    "data = pd.DataFrame({'Concentration (ug/mL)': known_concentration, 'RFU': rfu})\n",
    "\n",
    "# RFU range from calibration data\n",
    "rfu_min = min(rfu)\n",
    "rfu_max = max(rfu)\n",
    "\n",
    "# Fit a linear regression model\n",
    "X = np.array(known_concentration).reshape(-1, 1)  # Predictor\n",
    "y = np.array(rfu)  # Response\n",
    "model = LinearRegression()\n",
    "model.fit(X, y)\n",
    "\n",
    "# Extract slope and intercept\n",
    "slope = model.coef_[0]\n",
    "intercept = model.intercept_\n",
    "r_squared = model.score(X, y)\n",
    "\n",
    "# Create a fitted line for visualization\n",
    "data['Predicted RFU'] = model.predict(X)\n",
    "\n",
    "# Plot the calibration curve\n",
    "sns.set(style=\"whitegrid\")\n",
    "plt.figure(figsize=(8, 6))\n",
    "sns.scatterplot(data=data, x='Concentration (ug/mL)', y='RFU', color='blue', label='Observed Data')\n",
    "sns.lineplot(data=data, x='Concentration (ug/mL)', y='Predicted RFU', color='red', label=f'Fit Line: y = {slope:.2f}x + {intercept:.2f}\\nR² = {r_squared:.4f}')\n",
    "plt.title('Calibration Curve')\n",
    "plt.xlabel('Protein Concentration (ug/mL)')\n",
    "plt.ylabel('RFU')\n",
    "plt.legend()\n",
    "plt.show()"
   ]
  },
  {
   "cell_type": "code",
   "execution_count": 40,
   "metadata": {},
   "outputs": [
    {
     "name": "stdout",
     "output_type": "stream",
     "text": [
      "The number of samples to predict is =  5\n",
      "{'E_Coli': 120, 'Mouse_liver': 2500, 'HeLa': 18, 'Breast_cancer': 4600, 'Zebra_fish': 18000}\n",
      "Calculated protein concentration (ug/mL): [2864.1922050534363, 64342.27965171736, None, 118587.65092818554, None]\n",
      "Errors: [None, None, 'HeLa: RFU 18 is below the calibration range.', None, 'Zebra_fish: RFU 18000 is above the calibration range.']\n"
     ]
    }
   ],
   "source": [
    "## Now using the calibration curve predict the protein concentration of a sample\n",
    "\n",
    "# Independat variable, OD reads from the nandrop instrument\n",
    "samples_rfu = [120,2500,18,4600,18000] \n",
    "sample_names = ['E_Coli', 'Mouse_liver', 'HeLa', 'Breast_cancer', 'Zebra_fish']\n",
    "\n",
    "# Combine into a dictionary\n",
    "samples_data = dict(zip(sample_names, samples_rfu))\n",
    "\n",
    "print(\"The number of samples to predict is = \" , len(samples_rfu))\n",
    "# Display the sample data\n",
    "print(samples_data)\n",
    "\n",
    "# Dilution factor\n",
    "dilution_factor = 10 # Optional, if no dilution was performed assign 1\n",
    "\n",
    "# Create an empty list to store protein concentration values and handle error\n",
    "protein_concentration = []\n",
    "error_messages = []\n",
    "\n",
    "# Extract the slope (b) and interceps (c) from the cell above\n",
    "b = slope\n",
    "c = intercept\n",
    "\n",
    "# Calculate the slope for each consecutive pair of points\n",
    "# for i in range(1, len(samples_rfu)):\n",
    "#     corrent_x =  samples_rfu[i]  \n",
    "#     y = round((corrent_x - c) / b,2) # Calculate the y using the formula y = b*x + c\n",
    "#     y = y * dilution_factor\n",
    "#     protein_concentration.append(y)\n",
    "\n",
    "for sample, rfu_value in zip(sample_names, samples_rfu):\n",
    "    if rfu_value < rfu_min:\n",
    "        protein_concentration.append(None)\n",
    "        error_messages.append(f\"{sample}: RFU {rfu_value} is below the calibration range.\")\n",
    "    elif rfu_value > rfu_max:\n",
    "        protein_concentration.append(None)\n",
    "        error_messages.append(f\"{sample}: RFU {rfu_value} is above the calibration range.\")\n",
    "    else:\n",
    "        predicted_concentration = model.predict([[rfu_value]])[0]\n",
    "        protein_concentration.append(predicted_concentration)\n",
    "        error_messages.append(None)\n",
    "\n",
    "\n",
    "# Print the list of calculated slopes\n",
    "print(\"Calculated protein concentration (ug/mL):\", protein_concentration)\n",
    "print('Errors:', error_messages)"
   ]
  }
 ],
 "metadata": {
  "colab": {
   "provenance": []
  },
  "kernelspec": {
   "display_name": "Python 3",
   "language": "python",
   "name": "python3"
  },
  "language_info": {
   "codemirror_mode": {
    "name": "ipython",
    "version": 3
   },
   "file_extension": ".py",
   "mimetype": "text/x-python",
   "name": "python",
   "nbconvert_exporter": "python",
   "pygments_lexer": "ipython3",
   "version": "3.12.1"
  }
 },
 "nbformat": 4,
 "nbformat_minor": 0
}
